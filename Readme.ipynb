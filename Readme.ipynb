{
 "cells": [
  {
   "cell_type": "markdown",
   "id": "parental-military",
   "metadata": {},
   "source": [
    "# PolySMILES\n",
    "- A module to process polymer information, written in SMILES format "
   ]
  },
  {
   "cell_type": "markdown",
   "id": "confirmed-silver",
   "metadata": {},
   "source": [
    "# What can be done?\n",
    "<img src=\"pics/top.PNG\">"
   ]
  },
  {
   "cell_type": "markdown",
   "id": "allied-holocaust",
   "metadata": {},
   "source": [
    "# Install\n",
    "1. Copy \"polysmiles\" folder to your project\n",
    "2. Add path to the library\n",
    "    - import sys\n",
    "    - sys.path.append(\"polysmiles\")\n",
    "3. RDKit and networkX are required"
   ]
  },
  {
   "cell_type": "markdown",
   "id": "settled-screen",
   "metadata": {},
   "source": [
    "# Notes\n",
    "- This module works on \"pysmiles\" library\n",
    " - https://pypi.org/project/pysmiles/"
   ]
  },
  {
   "cell_type": "markdown",
   "id": "suitable-southeast",
   "metadata": {},
   "source": [
    "# Todo\n",
    "- Implement graph neural nets to process the polymer data\n",
    "\n",
    "# History\n",
    "- version 2021.3.18\n",
    "\n",
    "# Author\n",
    "- Kan Hatakeyama-Sato and Kenichi Oyaizu\n",
    "- Waseda University\n",
    "- https://kanhatakeyama.github.io/\n",
    "- http://www.appchem.waseda.ac.jp/~polymer/PolymerDatabase/\n"
   ]
  },
  {
   "cell_type": "code",
   "execution_count": null,
   "id": "everyday-animal",
   "metadata": {},
   "outputs": [],
   "source": []
  }
 ],
 "metadata": {
  "kernelspec": {
   "display_name": "Environment (conda_polysmiles)",
   "language": "python",
   "name": "conda_polysmiles"
  },
  "language_info": {
   "codemirror_mode": {
    "name": "ipython",
    "version": 3
   },
   "file_extension": ".py",
   "mimetype": "text/x-python",
   "name": "python",
   "nbconvert_exporter": "python",
   "pygments_lexer": "ipython3",
   "version": "3.9.2"
  }
 },
 "nbformat": 4,
 "nbformat_minor": 5
}
